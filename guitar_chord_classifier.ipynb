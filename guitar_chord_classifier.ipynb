{
 "cells": [
  {
   "cell_type": "code",
   "execution_count": 5,
   "metadata": {},
   "outputs": [],
   "source": [
    "import tensorflow as tf\n",
    "import cv2\n",
    "import numpy as np\n",
    "import os\n",
    "import matplotlib.pyplot as plt\n",
    "import mediapipe as mp"
   ]
  },
  {
   "cell_type": "code",
   "execution_count": 92,
   "metadata": {},
   "outputs": [],
   "source": [
    "class GuitarChordDetectModel:\n",
    "    def __init__(self, data_path: str):\n",
    "        self.data_path = data_path\n",
    "        self.file_names = os.listdir(data_path)\n",
    "        self.output_images_path=\"data\\\\frame_images\"\n",
    "\n",
    "        for i in range(len(self.file_names)):\n",
    "            self.file_names[i] = os.path.join(self.data_path, self.file_names[i])\n",
    "        print(self.file_names)\n",
    "        print(f\"{len(self.file_names)} files\")\n",
    "\n",
    "    def play_video_file(self, video_file=None, save_frames=False, frame_save_interval=0.2):\n",
    "        # Set the first video as default video\n",
    "        if video_file is None:\n",
    "            video_file = self.file_names[0]\n",
    "\n",
    "        print(f\"video file: {video_file}\")\n",
    "\n",
    "        cap = cv2.VideoCapture(video_file)\n",
    "\n",
    "        # Check if the video file opened successfully\n",
    "        if not cap.isOpened():\n",
    "            print(\"Error: Could not open video file.\")\n",
    "            return\n",
    "        \n",
    "        # Get a unique video identifier from the file name\n",
    "        video_id = os.path.splitext(os.path.basename(video_file))[0]\n",
    "        self.output_images_path = os.path.join(self.output_images_path, video_id)\n",
    "        \n",
    "        # Initialize variables for frame saving\n",
    "        if save_frames:\n",
    "            os.makedirs(self.output_images_path, exist_ok=True)\n",
    "            fps = cap.get(cv2.CAP_PROP_FPS)  # Frames per second\n",
    "            frame_interval = int(fps * frame_save_interval)  # Interval in frames\n",
    "            saved_frame_count = 0\n",
    "            frame_count = 0\n",
    "\n",
    "        # Read and display frames in a loop\n",
    "        while True:\n",
    "            ret, frame = cap.read()  # Read a frame from the video\n",
    "            if not ret:  # Break the loop if no frames are left\n",
    "                print(\"End of video.\")\n",
    "                break\n",
    "\n",
    "            # Display the current frame\n",
    "            cv2.imshow('Video', frame)\n",
    "\n",
    "            # Save frames if enabled\n",
    "            if save_frames and frame_count % frame_interval == 0:\n",
    "                output_path = os.path.join(self.output_images_path, f\"{video_id}_frame_{saved_frame_count:04d}.jpg\")\n",
    "                cv2.imwrite(output_path, frame)\n",
    "                saved_frame_count += 1\n",
    "\n",
    "            # Increment frame counter\n",
    "            if save_frames:\n",
    "                frame_count += 1\n",
    "\n",
    "            # Break the loop when 'q' is pressed\n",
    "            if cv2.waitKey(25) & 0xFF == ord('q'):\n",
    "                print(\"Video playback interrupted by user.\")\n",
    "                break\n",
    "\n",
    "        # Release the video capture object and close all windows\n",
    "        cap.release()\n",
    "        cv2.destroyAllWindows()\n",
    "        if save_frames:\n",
    "            print(f\"Saved {saved_frame_count} frames to '{self.output_images_path}'.\")\n",
    "\n",
    "    def load_data(self):\n",
    "        # Load training data\n",
    "        train_dataset = tf.keras.utils.image_dataset_from_directory(\n",
    "            directory=self.output_images_path,\n",
    "            image_size=(224, 224),  # Resize images\n",
    "            batch_size=32,\n",
    "            validation_split=0.2,  # 20% for testing\n",
    "            subset=\"training\",     # Load the training subset\n",
    "            seed=123,              # Ensure reproducibility\n",
    "            label_mode='int'\n",
    "        )\n",
    "\n",
    "        # Load testing data\n",
    "        test_dataset = tf.keras.utils.image_dataset_from_directory(\n",
    "            directory=self.output_images_path,\n",
    "            image_size=(224, 224),\n",
    "            batch_size=32,\n",
    "            validation_split=0.2,  # 20% for testing\n",
    "            subset=\"validation\",   # Load the validation subset\n",
    "            seed=123,\n",
    "            label_mode='int'\n",
    "        )\n",
    "\n",
    "        # Display class names\n",
    "        print(train_dataset.class_names)\n",
    "        return train_dataset, test_dataset\n",
    "\n",
    "    def build_model(self):\n",
    "        from tensorflow.keras import layers, models\n",
    "\n",
    "        model = models.Sequential([\n",
    "            layers.InputLayer(input_shape=(224, 224, 3)),  # Adjust shape based on images\n",
    "            layers.Conv2D(32, (3, 3), activation='relu'),\n",
    "            layers.MaxPooling2D((2, 2)),\n",
    "            layers.Conv2D(64, (3, 3), activation='relu'),\n",
    "            layers.MaxPooling2D((2, 2)),\n",
    "            layers.Flatten(),\n",
    "            layers.Dense(128, activation='relu'),\n",
    "            layers.Dense(5, activation='softmax')  # Adjust to the number of classes\n",
    "        ])\n",
    "        return model\n",
    "    \n",
    "    def compile_model(self, model, optimizer='adam', loss='sparse_categorical_crossentropy', metrics=['accuracy']):\n",
    "        model.compile(optimizer=optimizer,\n",
    "                      loss=loss,\n",
    "                      metrics=metrics)\n",
    "        return model"
   ]
  },
  {
   "cell_type": "code",
   "execution_count": 93,
   "metadata": {},
   "outputs": [
    {
     "name": "stdout",
     "output_type": "stream",
     "text": [
      "['C:\\\\Users\\\\user\\\\Videos\\\\Computer-Vision_Data\\\\Guitar-Chords\\\\A-Chord.mp4', 'C:\\\\Users\\\\user\\\\Videos\\\\Computer-Vision_Data\\\\Guitar-Chords\\\\Bm-Chord.mp4', 'C:\\\\Users\\\\user\\\\Videos\\\\Computer-Vision_Data\\\\Guitar-Chords\\\\C-Chord.mp4', 'C:\\\\Users\\\\user\\\\Videos\\\\Computer-Vision_Data\\\\Guitar-Chords\\\\D-Chord.mp4', 'C:\\\\Users\\\\user\\\\Videos\\\\Computer-Vision_Data\\\\Guitar-Chords\\\\G-Chord.mp4']\n",
      "5 files\n"
     ]
    }
   ],
   "source": [
    "guitarChordDetectModel = GuitarChordDetectModel(rf'C:\\Users\\user\\Videos\\Computer-Vision_Data\\Guitar-Chords')"
   ]
  },
  {
   "cell_type": "code",
   "execution_count": null,
   "metadata": {},
   "outputs": [
    {
     "name": "stdout",
     "output_type": "stream",
     "text": [
      "video file: C:\\Users\\user\\Videos\\Computer-Vision_Data\\Guitar-Chords\\G-Chord.mp4\n",
      "End of video.\n",
      "Saved 148 frames to 'data\\frame_images\\G-Chord'.\n"
     ]
    }
   ],
   "source": [
    "guitarChordDetectModel.play_video_file(guitarChordDetectModel.file_names[0], True)"
   ]
  },
  {
   "cell_type": "code",
   "execution_count": 64,
   "metadata": {},
   "outputs": [
    {
     "name": "stdout",
     "output_type": "stream",
     "text": [
      "Found 489 files belonging to 5 classes.\n",
      "Using 392 files for training.\n",
      "Found 489 files belonging to 5 classes.\n",
      "Using 97 files for validation.\n",
      "['A-Chord', 'Bm-Chord', 'C-Chord', 'D-Chord', 'G-Chord']\n"
     ]
    }
   ],
   "source": [
    "guitarChordDetectModel.output_images_path\n",
    "train_dataset, test_dataset = guitarChordDetectModel.load_data()"
   ]
  },
  {
   "cell_type": "code",
   "execution_count": 72,
   "metadata": {},
   "outputs": [
    {
     "name": "stderr",
     "output_type": "stream",
     "text": [
      "c:\\Users\\user\\AppData\\Local\\Programs\\Python\\Python310\\lib\\site-packages\\keras\\src\\layers\\core\\input_layer.py:27: UserWarning: Argument `input_shape` is deprecated. Use `shape` instead.\n",
      "  warnings.warn(\n"
     ]
    }
   ],
   "source": [
    "model = guitarChordDetectModel.build_model()"
   ]
  },
  {
   "cell_type": "code",
   "execution_count": 73,
   "metadata": {},
   "outputs": [
    {
     "data": {
      "text/html": [
       "<pre style=\"white-space:pre;overflow-x:auto;line-height:normal;font-family:Menlo,'DejaVu Sans Mono',consolas,'Courier New',monospace\"><span style=\"font-weight: bold\">Model: \"sequential_1\"</span>\n",
       "</pre>\n"
      ],
      "text/plain": [
       "\u001b[1mModel: \"sequential_1\"\u001b[0m\n"
      ]
     },
     "metadata": {},
     "output_type": "display_data"
    },
    {
     "data": {
      "text/html": [
       "<pre style=\"white-space:pre;overflow-x:auto;line-height:normal;font-family:Menlo,'DejaVu Sans Mono',consolas,'Courier New',monospace\">┏━━━━━━━━━━━━━━━━━━━━━━━━━━━━━━━━━┳━━━━━━━━━━━━━━━━━━━━━━━━┳━━━━━━━━━━━━━━━┓\n",
       "┃<span style=\"font-weight: bold\"> Layer (type)                    </span>┃<span style=\"font-weight: bold\"> Output Shape           </span>┃<span style=\"font-weight: bold\">       Param # </span>┃\n",
       "┡━━━━━━━━━━━━━━━━━━━━━━━━━━━━━━━━━╇━━━━━━━━━━━━━━━━━━━━━━━━╇━━━━━━━━━━━━━━━┩\n",
       "│ conv2d_2 (<span style=\"color: #0087ff; text-decoration-color: #0087ff\">Conv2D</span>)               │ (<span style=\"color: #00d7ff; text-decoration-color: #00d7ff\">None</span>, <span style=\"color: #00af00; text-decoration-color: #00af00\">222</span>, <span style=\"color: #00af00; text-decoration-color: #00af00\">222</span>, <span style=\"color: #00af00; text-decoration-color: #00af00\">32</span>)   │           <span style=\"color: #00af00; text-decoration-color: #00af00\">896</span> │\n",
       "├─────────────────────────────────┼────────────────────────┼───────────────┤\n",
       "│ max_pooling2d_2 (<span style=\"color: #0087ff; text-decoration-color: #0087ff\">MaxPooling2D</span>)  │ (<span style=\"color: #00d7ff; text-decoration-color: #00d7ff\">None</span>, <span style=\"color: #00af00; text-decoration-color: #00af00\">111</span>, <span style=\"color: #00af00; text-decoration-color: #00af00\">111</span>, <span style=\"color: #00af00; text-decoration-color: #00af00\">32</span>)   │             <span style=\"color: #00af00; text-decoration-color: #00af00\">0</span> │\n",
       "├─────────────────────────────────┼────────────────────────┼───────────────┤\n",
       "│ conv2d_3 (<span style=\"color: #0087ff; text-decoration-color: #0087ff\">Conv2D</span>)               │ (<span style=\"color: #00d7ff; text-decoration-color: #00d7ff\">None</span>, <span style=\"color: #00af00; text-decoration-color: #00af00\">109</span>, <span style=\"color: #00af00; text-decoration-color: #00af00\">109</span>, <span style=\"color: #00af00; text-decoration-color: #00af00\">64</span>)   │        <span style=\"color: #00af00; text-decoration-color: #00af00\">18,496</span> │\n",
       "├─────────────────────────────────┼────────────────────────┼───────────────┤\n",
       "│ max_pooling2d_3 (<span style=\"color: #0087ff; text-decoration-color: #0087ff\">MaxPooling2D</span>)  │ (<span style=\"color: #00d7ff; text-decoration-color: #00d7ff\">None</span>, <span style=\"color: #00af00; text-decoration-color: #00af00\">54</span>, <span style=\"color: #00af00; text-decoration-color: #00af00\">54</span>, <span style=\"color: #00af00; text-decoration-color: #00af00\">64</span>)     │             <span style=\"color: #00af00; text-decoration-color: #00af00\">0</span> │\n",
       "├─────────────────────────────────┼────────────────────────┼───────────────┤\n",
       "│ flatten_1 (<span style=\"color: #0087ff; text-decoration-color: #0087ff\">Flatten</span>)             │ (<span style=\"color: #00d7ff; text-decoration-color: #00d7ff\">None</span>, <span style=\"color: #00af00; text-decoration-color: #00af00\">186624</span>)         │             <span style=\"color: #00af00; text-decoration-color: #00af00\">0</span> │\n",
       "├─────────────────────────────────┼────────────────────────┼───────────────┤\n",
       "│ dense_2 (<span style=\"color: #0087ff; text-decoration-color: #0087ff\">Dense</span>)                 │ (<span style=\"color: #00d7ff; text-decoration-color: #00d7ff\">None</span>, <span style=\"color: #00af00; text-decoration-color: #00af00\">128</span>)            │    <span style=\"color: #00af00; text-decoration-color: #00af00\">23,888,000</span> │\n",
       "├─────────────────────────────────┼────────────────────────┼───────────────┤\n",
       "│ dense_3 (<span style=\"color: #0087ff; text-decoration-color: #0087ff\">Dense</span>)                 │ (<span style=\"color: #00d7ff; text-decoration-color: #00d7ff\">None</span>, <span style=\"color: #00af00; text-decoration-color: #00af00\">5</span>)              │           <span style=\"color: #00af00; text-decoration-color: #00af00\">645</span> │\n",
       "└─────────────────────────────────┴────────────────────────┴───────────────┘\n",
       "</pre>\n"
      ],
      "text/plain": [
       "┏━━━━━━━━━━━━━━━━━━━━━━━━━━━━━━━━━┳━━━━━━━━━━━━━━━━━━━━━━━━┳━━━━━━━━━━━━━━━┓\n",
       "┃\u001b[1m \u001b[0m\u001b[1mLayer (type)                   \u001b[0m\u001b[1m \u001b[0m┃\u001b[1m \u001b[0m\u001b[1mOutput Shape          \u001b[0m\u001b[1m \u001b[0m┃\u001b[1m \u001b[0m\u001b[1m      Param #\u001b[0m\u001b[1m \u001b[0m┃\n",
       "┡━━━━━━━━━━━━━━━━━━━━━━━━━━━━━━━━━╇━━━━━━━━━━━━━━━━━━━━━━━━╇━━━━━━━━━━━━━━━┩\n",
       "│ conv2d_2 (\u001b[38;5;33mConv2D\u001b[0m)               │ (\u001b[38;5;45mNone\u001b[0m, \u001b[38;5;34m222\u001b[0m, \u001b[38;5;34m222\u001b[0m, \u001b[38;5;34m32\u001b[0m)   │           \u001b[38;5;34m896\u001b[0m │\n",
       "├─────────────────────────────────┼────────────────────────┼───────────────┤\n",
       "│ max_pooling2d_2 (\u001b[38;5;33mMaxPooling2D\u001b[0m)  │ (\u001b[38;5;45mNone\u001b[0m, \u001b[38;5;34m111\u001b[0m, \u001b[38;5;34m111\u001b[0m, \u001b[38;5;34m32\u001b[0m)   │             \u001b[38;5;34m0\u001b[0m │\n",
       "├─────────────────────────────────┼────────────────────────┼───────────────┤\n",
       "│ conv2d_3 (\u001b[38;5;33mConv2D\u001b[0m)               │ (\u001b[38;5;45mNone\u001b[0m, \u001b[38;5;34m109\u001b[0m, \u001b[38;5;34m109\u001b[0m, \u001b[38;5;34m64\u001b[0m)   │        \u001b[38;5;34m18,496\u001b[0m │\n",
       "├─────────────────────────────────┼────────────────────────┼───────────────┤\n",
       "│ max_pooling2d_3 (\u001b[38;5;33mMaxPooling2D\u001b[0m)  │ (\u001b[38;5;45mNone\u001b[0m, \u001b[38;5;34m54\u001b[0m, \u001b[38;5;34m54\u001b[0m, \u001b[38;5;34m64\u001b[0m)     │             \u001b[38;5;34m0\u001b[0m │\n",
       "├─────────────────────────────────┼────────────────────────┼───────────────┤\n",
       "│ flatten_1 (\u001b[38;5;33mFlatten\u001b[0m)             │ (\u001b[38;5;45mNone\u001b[0m, \u001b[38;5;34m186624\u001b[0m)         │             \u001b[38;5;34m0\u001b[0m │\n",
       "├─────────────────────────────────┼────────────────────────┼───────────────┤\n",
       "│ dense_2 (\u001b[38;5;33mDense\u001b[0m)                 │ (\u001b[38;5;45mNone\u001b[0m, \u001b[38;5;34m128\u001b[0m)            │    \u001b[38;5;34m23,888,000\u001b[0m │\n",
       "├─────────────────────────────────┼────────────────────────┼───────────────┤\n",
       "│ dense_3 (\u001b[38;5;33mDense\u001b[0m)                 │ (\u001b[38;5;45mNone\u001b[0m, \u001b[38;5;34m5\u001b[0m)              │           \u001b[38;5;34m645\u001b[0m │\n",
       "└─────────────────────────────────┴────────────────────────┴───────────────┘\n"
      ]
     },
     "metadata": {},
     "output_type": "display_data"
    },
    {
     "data": {
      "text/html": [
       "<pre style=\"white-space:pre;overflow-x:auto;line-height:normal;font-family:Menlo,'DejaVu Sans Mono',consolas,'Courier New',monospace\"><span style=\"font-weight: bold\"> Total params: </span><span style=\"color: #00af00; text-decoration-color: #00af00\">23,908,037</span> (91.20 MB)\n",
       "</pre>\n"
      ],
      "text/plain": [
       "\u001b[1m Total params: \u001b[0m\u001b[38;5;34m23,908,037\u001b[0m (91.20 MB)\n"
      ]
     },
     "metadata": {},
     "output_type": "display_data"
    },
    {
     "data": {
      "text/html": [
       "<pre style=\"white-space:pre;overflow-x:auto;line-height:normal;font-family:Menlo,'DejaVu Sans Mono',consolas,'Courier New',monospace\"><span style=\"font-weight: bold\"> Trainable params: </span><span style=\"color: #00af00; text-decoration-color: #00af00\">23,908,037</span> (91.20 MB)\n",
       "</pre>\n"
      ],
      "text/plain": [
       "\u001b[1m Trainable params: \u001b[0m\u001b[38;5;34m23,908,037\u001b[0m (91.20 MB)\n"
      ]
     },
     "metadata": {},
     "output_type": "display_data"
    },
    {
     "data": {
      "text/html": [
       "<pre style=\"white-space:pre;overflow-x:auto;line-height:normal;font-family:Menlo,'DejaVu Sans Mono',consolas,'Courier New',monospace\"><span style=\"font-weight: bold\"> Non-trainable params: </span><span style=\"color: #00af00; text-decoration-color: #00af00\">0</span> (0.00 B)\n",
       "</pre>\n"
      ],
      "text/plain": [
       "\u001b[1m Non-trainable params: \u001b[0m\u001b[38;5;34m0\u001b[0m (0.00 B)\n"
      ]
     },
     "metadata": {},
     "output_type": "display_data"
    }
   ],
   "source": [
    "model.summary()"
   ]
  },
  {
   "cell_type": "code",
   "execution_count": 94,
   "metadata": {},
   "outputs": [],
   "source": [
    "model = guitarChordDetectModel.compile_model(model)"
   ]
  },
  {
   "cell_type": "code",
   "execution_count": 75,
   "metadata": {},
   "outputs": [
    {
     "name": "stdout",
     "output_type": "stream",
     "text": [
      "Epoch 1/10\n",
      "\u001b[1m13/13\u001b[0m \u001b[32m━━━━━━━━━━━━━━━━━━━━\u001b[0m\u001b[37m\u001b[0m \u001b[1m3s\u001b[0m 166ms/step - accuracy: 0.2523 - loss: 1599.9473 - val_accuracy: 0.2577 - val_loss: 11.8899\n",
      "Epoch 2/10\n",
      "\u001b[1m13/13\u001b[0m \u001b[32m━━━━━━━━━━━━━━━━━━━━\u001b[0m\u001b[37m\u001b[0m \u001b[1m2s\u001b[0m 155ms/step - accuracy: 0.5238 - loss: 5.7578 - val_accuracy: 0.8144 - val_loss: 0.6902\n",
      "Epoch 3/10\n",
      "\u001b[1m13/13\u001b[0m \u001b[32m━━━━━━━━━━━━━━━━━━━━\u001b[0m\u001b[37m\u001b[0m \u001b[1m2s\u001b[0m 166ms/step - accuracy: 0.9713 - loss: 0.1039 - val_accuracy: 0.9072 - val_loss: 0.1947\n",
      "Epoch 4/10\n",
      "\u001b[1m13/13\u001b[0m \u001b[32m━━━━━━━━━━━━━━━━━━━━\u001b[0m\u001b[37m\u001b[0m \u001b[1m2s\u001b[0m 161ms/step - accuracy: 0.9816 - loss: 0.0542 - val_accuracy: 0.9485 - val_loss: 0.2890\n",
      "Epoch 5/10\n",
      "\u001b[1m13/13\u001b[0m \u001b[32m━━━━━━━━━━━━━━━━━━━━\u001b[0m\u001b[37m\u001b[0m \u001b[1m2s\u001b[0m 156ms/step - accuracy: 0.9968 - loss: 0.0056 - val_accuracy: 0.9485 - val_loss: 0.1077\n",
      "Epoch 6/10\n",
      "\u001b[1m13/13\u001b[0m \u001b[32m━━━━━━━━━━━━━━━━━━━━\u001b[0m\u001b[37m\u001b[0m \u001b[1m2s\u001b[0m 153ms/step - accuracy: 1.0000 - loss: 3.1436e-04 - val_accuracy: 0.9691 - val_loss: 0.0888\n",
      "Epoch 7/10\n",
      "\u001b[1m13/13\u001b[0m \u001b[32m━━━━━━━━━━━━━━━━━━━━\u001b[0m\u001b[37m\u001b[0m \u001b[1m2s\u001b[0m 154ms/step - accuracy: 1.0000 - loss: 4.7261e-05 - val_accuracy: 0.9691 - val_loss: 0.1267\n",
      "Epoch 8/10\n",
      "\u001b[1m13/13\u001b[0m \u001b[32m━━━━━━━━━━━━━━━━━━━━\u001b[0m\u001b[37m\u001b[0m \u001b[1m2s\u001b[0m 155ms/step - accuracy: 1.0000 - loss: 1.0989e-05 - val_accuracy: 0.9691 - val_loss: 0.1148\n",
      "Epoch 9/10\n",
      "\u001b[1m13/13\u001b[0m \u001b[32m━━━━━━━━━━━━━━━━━━━━\u001b[0m\u001b[37m\u001b[0m \u001b[1m2s\u001b[0m 152ms/step - accuracy: 1.0000 - loss: 7.0649e-06 - val_accuracy: 0.9588 - val_loss: 0.1153\n",
      "Epoch 10/10\n",
      "\u001b[1m13/13\u001b[0m \u001b[32m━━━━━━━━━━━━━━━━━━━━\u001b[0m\u001b[37m\u001b[0m \u001b[1m2s\u001b[0m 152ms/step - accuracy: 1.0000 - loss: 4.8436e-06 - val_accuracy: 0.9588 - val_loss: 0.1183\n"
     ]
    }
   ],
   "source": [
    "# Train the model\n",
    "history = model.fit(\n",
    "    train_dataset,                 # Training data\n",
    "    validation_data=test_dataset,  # Validation data\n",
    "    epochs=10                      # Adjust the number of epochs as needed\n",
    ")"
   ]
  },
  {
   "cell_type": "code",
   "execution_count": 76,
   "metadata": {},
   "outputs": [
    {
     "name": "stdout",
     "output_type": "stream",
     "text": [
      "\u001b[1m4/4\u001b[0m \u001b[32m━━━━━━━━━━━━━━━━━━━━\u001b[0m\u001b[37m\u001b[0m \u001b[1m0s\u001b[0m 27ms/step - accuracy: 0.9595 - loss: 0.1051\n",
      "Test Loss: 0.1183, Test Accuracy: 0.9588\n"
     ]
    }
   ],
   "source": [
    "test_loss, test_accuracy = model.evaluate(test_dataset)\n",
    "print(f\"Test Loss: {test_loss:.4f}, Test Accuracy: {test_accuracy:.4f}\")"
   ]
  },
  {
   "cell_type": "code",
   "execution_count": 77,
   "metadata": {},
   "outputs": [
    {
     "data": {
      "image/png": "[encoded data removed]",
      "text/plain": [
       "<Figure size 800x600 with 1 Axes>"
      ]
     },
     "metadata": {},
     "output_type": "display_data"
    },
    {
     "data": {
      "image/png": "[encoded data removed]",
      "text/plain": [
       "<Figure size 800x600 with 1 Axes>"
      ]
     },
     "metadata": {},
     "output_type": "display_data"
    }
   ],
   "source": [
    "import matplotlib.pyplot as plt\n",
    "\n",
    "# Plot training and validation loss\n",
    "plt.figure(figsize=(8, 6))\n",
    "plt.plot(history.history['loss'], label='Training Loss')\n",
    "plt.plot(history.history['val_loss'], label='Validation Loss')\n",
    "plt.xlabel('Epochs')\n",
    "plt.ylabel('Loss')\n",
    "plt.legend()\n",
    "plt.title('Training and Validation Loss')\n",
    "plt.show()\n",
    "\n",
    "# Plot training and validation accuracy\n",
    "plt.figure(figsize=(8, 6))\n",
    "plt.plot(history.history['accuracy'], label='Training Accuracy')\n",
    "plt.plot(history.history['val_accuracy'], label='Validation Accuracy')\n",
    "plt.xlabel('Epochs')\n",
    "plt.ylabel('Accuracy')\n",
    "plt.legend()\n",
    "plt.title('Training and Validation Accuracy')\n",
    "plt.show()\n"
   ]
  },
  {
   "cell_type": "code",
   "execution_count": 81,
   "metadata": {},
   "outputs": [],
   "source": [
    "import tensorflow as tf\n",
    "import numpy as np\n",
    "from tensorflow.keras.preprocessing import image\n",
    "\n",
    "def preprocess_image(image_path, target_size=(224, 224)):\n",
    "    # Load the image\n",
    "    img = image.load_img(image_path, target_size=target_size)\n",
    "    # Convert the image to a NumPy array\n",
    "    img_array = image.img_to_array(img)\n",
    "    # Expand dimensions to create a batch (models expect batch input)\n",
    "    img_array = np.expand_dims(img_array, axis=0)\n",
    "    # Normalize the image (optional, depends on model training)\n",
    "    img_array = img_array / 255.0\n",
    "    return img_array\n"
   ]
  },
  {
   "cell_type": "code",
   "execution_count": 90,
   "metadata": {},
   "outputs": [
    {
     "name": "stdout",
     "output_type": "stream",
     "text": [
      "\u001b[1m1/1\u001b[0m \u001b[32m━━━━━━━━━━━━━━━━━━━━\u001b[0m\u001b[37m\u001b[0m \u001b[1m0s\u001b[0m 24ms/step\n",
      "Predicted label: A-Chord\n",
      "['A-Chord', 'Bm-Chord', 'C-Chord', 'D-Chord', 'G-Chord']\n",
      "Predicted class: 0\n"
     ]
    }
   ],
   "source": [
    "# Load and preprocess the image\n",
    "image_path = rf\"C:\\Users\\user\\Downloads\\test_A_chord_2.jpg\"\n",
    "processed_image = preprocess_image(image_path)\n",
    "\n",
    "# Make a prediction\n",
    "predictions = model.predict(processed_image)\n",
    "\n",
    "# Get the predicted class\n",
    "predicted_class = np.argmax(predictions, axis=-1)[0]\n",
    "\n",
    "# Access the class names\n",
    "class_names = train_dataset.class_names\n",
    "\n",
    "predicted_label = class_names[predicted_class]\n",
    "print(f\"Predicted label: {predicted_label}\")\n",
    "\n",
    "print(class_names)\n",
    "print(f\"Predicted class: {predicted_class}\")\n"
   ]
  }
 ],
 "metadata": {
  "kernelspec": {
   "display_name": "Python 3",
   "language": "python",
   "name": "python3"
  },
  "language_info": {
   "codemirror_mode": {
    "name": "ipython",
    "version": 3
   },
   "file_extension": ".py",
   "mimetype": "text/x-python",
   "name": "python",
   "nbconvert_exporter": "python",
   "pygments_lexer": "ipython3",
   "version": "3.10.0"
  }
 },
 "nbformat": 4,
 "nbformat_minor": 2
}
